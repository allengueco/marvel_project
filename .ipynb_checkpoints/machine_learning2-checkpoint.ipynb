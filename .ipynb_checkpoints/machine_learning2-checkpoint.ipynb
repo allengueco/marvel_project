{
 "cells": [
  {
   "cell_type": "markdown",
   "metadata": {},
   "source": [
    "# Week 5: Machine Learning 2"
   ]
  },
  {
   "cell_type": "markdown",
   "metadata": {
    "ExecuteTime": {
     "end_time": "2017-08-23T15:30:03.634114Z",
     "start_time": "2017-08-23T15:30:03.629294Z"
    }
   },
   "source": [
    "There are innumerable machine learning models (and algorithms for fitting them to data) out there, and each one has something special about it that makes it suitable to a specific type of problem. To apply machine learning and get some initial results is fairly straight forward. Getting under the hood, however, requires a bit of work. This week we will look into how Decision Trees and PCA works. In the exercises today you will:\n",
    "\n",
    "* Implement a standard decision tree mechanism\n",
    "* Use PCA to visualize clusters in your data"
   ]
  },
  {
   "cell_type": "markdown",
   "metadata": {},
   "source": [
    "[**Questions**](https://github.com/ulfaslak/computational_analysis_of_big_data_2018_fall/issues) **/** [**Feedback**](http://ulfaslak.com/vent)"
   ]
  },
  {
   "cell_type": "markdown",
   "metadata": {},
   "source": [
    "## Exercises"
   ]
  },
  {
   "cell_type": "markdown",
   "metadata": {},
   "source": [
    "**Get started**: Load the data you used last week to classify hero/villainness. It should consist of two arrays, one of dimensions ($N_{characters}$, $N_{teams}$) which is your feature matrix that has the team alliances of each character as a row vector of ones and zeros, and another of dimensions ($N_{characters}$, ) which is your target array that gives whether a character is a hero (1) or a villain (0). You can either load the data or copy/paste the code that generates it.\n",
    "\n",
    "*Hint: If you had trouble with the data, use mine, called `affiliations.csv` in the `data` folder. You can load it as a `pandas.DataFrame`, with `pd.read_csv('data_team_alliances.csv', index_col=0)`. The rightmost column is the target array. Do not include this in PCA (think about why)!.*"
   ]
  },
  {
   "cell_type": "markdown",
   "metadata": {},
   "source": [
    "### Part 1: Decision trees"
   ]
  },
  {
   "cell_type": "markdown",
   "metadata": {},
   "source": [
    "This does not exactly look right. Not sure what the problem could be, but I'm guessing you are not computing the average weighted entropy right.\n",
    "\n",
    "If you look in my slides from yesterday I give an example of how to compute the split entropy on page 18-23. The idea is that:\n",
    "\n",
    "The question you ask to your data (\"do you lay eggs\" or \"are you affiliated with the X-Men alliance?\") splits the data into to two subsets, one that answers yes to the question and one that answers no.\n",
    "In each of these subsets you can then compute the entropy of distribution of target values. In other words, if, say, in your first subset (the ones that answered \"yes\" and this were all affiliated with X-Men), there are 90% heroes, 3% villains and 7% ambiguous, the entropy of that distribution would be shannon_entropy([0.9, 0.03, 0.07]).\n",
    "You compute the target entropy of both your subsets.\n",
    "The weighted average entropy you can then compute by averaging the two numbers, with the twist that each term has to be weighted by how large the subset it estimates the entropy of is. Example: If the X-Men affiliated subset is 30 large and the non-X-Men subset is 1000, then the weighted average is:"
   ]
  },
  {
   "cell_type": "markdown",
   "metadata": {},
   "source": [
    "In this exercise you will implement the decision making algorithm of a decision tree classifier, step by step."
   ]
  },
  {
   "cell_type": "markdown",
   "metadata": {
    "ExecuteTime": {
     "end_time": "2017-08-23T14:01:10.834257Z",
     "start_time": "2017-08-23T14:01:10.826472Z"
    }
   },
   "source": [
    ">**Ex. 5.1.1**: Read about [Shannon entropy](https://en.wikipedia.org/wiki/Entropy_(information_theory).\n",
    "1. What is it? How is it defined mathematically (write out the formula in LateX formatting)?\n",
    "2. Write a function that computes the Shannon-entropy of a probability vector. Compute the Shannon entropy of `p=[0.4, 0.6]`."
   ]
  },
  {
   "cell_type": "code",
   "execution_count": 1,
   "metadata": {},
   "outputs": [],
   "source": [
    "import numpy as np\n",
    "\n",
    "def shannon(p):\n",
    "    return -1.0*sum([x*np.log2(x) for x in p])"
   ]
  },
  {
   "cell_type": "markdown",
   "metadata": {
    "ExecuteTime": {
     "end_time": "2017-08-23T14:01:10.834257Z",
     "start_time": "2017-08-23T14:01:10.826472Z"
    }
   },
   "source": [
    ">**Ex. 5.1.2**: Split your data into two subsets. One where characters are affiliated with X-men and one where they are not.\n",
    "1. What is the entropy of target labels in each subset?\n",
    "2. What is the weighted average entropy of the split?\n",
    "3. Write a function that computes the weighted average entropy of a split, given the data and team (name or id) on which to split the data.\n",
    "4. Plot the distribution of split entropy for all features. Comment on the result. My figure looks [like this](http://ulfaslak.com/computational_analysis_of_big_data/exer_figures/example_6.2.2.4.png)."
   ]
  },
  {
   "cell_type": "code",
   "execution_count": 5,
   "metadata": {},
   "outputs": [],
   "source": [
    "import pandas as pd\n",
    "ml_data = pd.read_csv(\"affiliations.csv\", index_col=0)\n",
    "features = data.iloc[:,:-1]\n",
    "target = data.faction"
   ]
  },
  {
   "cell_type": "code",
   "execution_count": 6,
   "metadata": {},
   "outputs": [],
   "source": [
    "import numpy as np\n",
    "from collections import Counter\n",
    "\n",
    "def shannon(p):\n",
    "    return -1.0*sum([x*np.log2(x) for x in p])\n",
    "\n",
    "#solves for entropy of a split\n",
    "def compute_entropy(sdata):\n",
    "    size = 1.0*len(sdata)\n",
    "    count = Counter(sdata.faction)\n",
    "    dist = [1.0 * x/size for x in count.values()]\n",
    "    return size,shannon(dist)\n",
    "\n",
    "def compute_avg_ent_feature(pdata, feature):\n",
    "    \n",
    "    #split that contains this feature\n",
    "    side_1 = pdata[pdata[feature] == 1]\n",
    "    \n",
    "    #split that does not contain this feature\n",
    "    side_2 = pdata[pdata[feature] == 0]\n",
    "    \n",
    "    #compute the entropy of both brances and store their sizes\n",
    "    s1,ent_1 = compute_entropy(side_1)\n",
    "    s2,ent_2 = compute_entropy(side_2)\n",
    "    \n",
    "    #compute the entropy of the main and the size\n",
    "    p1,entropy_before = compute_entropy(pdata)\n",
    "    \n",
    "    #weight_1*entropy_1 + weight_2*entropy_2 \n",
    "    entropy_after = ((s1/p1)*ent_1 + (s2/p1)*ent_2)\n",
    "    \n",
    "    return entropy_after\n",
    "\n"
   ]
  },
  {
   "cell_type": "code",
   "execution_count": 7,
   "metadata": {},
   "outputs": [
    {
     "data": {
      "text/plain": [
       "1.3600954091814654"
      ]
     },
     "execution_count": 7,
     "metadata": {},
     "output_type": "execute_result"
    }
   ],
   "source": [
    "compute_avg_ent_feature(ml_data,\"X-Men\")"
   ]
  },
  {
   "cell_type": "code",
   "execution_count": 8,
   "metadata": {
    "scrolled": true
   },
   "outputs": [
    {
     "name": "stdout",
     "output_type": "stream",
     "text": [
      "Computing average of split entropy...[288 / 288] \r"
     ]
    }
   ],
   "source": [
    "#Plot the distribution of split entropy for all features. Comment on the result.\n",
    "import sys\n",
    "all_entropy = []\n",
    "progress = 0\n",
    "for progress,column in enumerate(data):\n",
    "    if column != 'faction':\n",
    "        all_entropy.append(compute_avg_ent_feature(data,column))\n",
    "        sys.stdout.write(\"Computing average of split entropy...[%d / %d] \\r\" % (progress+1,len(data.columns)-1))\n",
    "        sys.stdout.flush()"
   ]
  },
  {
   "cell_type": "code",
   "execution_count": 12,
   "metadata": {},
   "outputs": [
    {
     "data": {
      "image/png": "[encoded data removed]",
      "text/plain": [
       "<Figure size 720x288 with 1 Axes>"
      ]
     },
     "metadata": {},
     "output_type": "display_data"
    }
   ],
   "source": [
    "import matplotlib.pyplot as plt\n",
    "import seaborn as sns\n",
    "\n",
    "plt.figure(figsize=(10,4))\n",
    "plt.title(\"Distribution of split entropy for all features\")\n",
    "sns.kdeplot(all_entropy)\n",
    "\n",
    "plt.show()"
   ]
  },
  {
   "cell_type": "markdown",
   "metadata": {
    "ExecuteTime": {
     "end_time": "2017-08-23T14:01:10.834257Z",
     "start_time": "2017-08-23T14:01:10.826472Z"
    }
   },
   "source": [
    "### >**Ex. 5.1.3**: Print the maximum entropy path of a decision tree.\n",
    ">\n",
    ">1. Implement the following pseudocode and print the output:<br><br>\n",
    ">Step 1. Find `team` that gives lowest split entropy for `data`. Print `team`.<br>\n",
    ">Step 2. Split `data` on `team`, to produce `data0` and `data1`. Print the entropy of each, as well as their weighted avg. entropy.<br>\n",
    ">Step 3. Overwrite the `data` variable with either `data0` or `data1`, depending on which has the highest entropy.<br>\n",
    ">Step 4. Stop if there are less than 5 datapoints in `data`. Otherwise start over from 1.<br><br>\n",
    ">My output looks [like this](http://ulfaslak.com/computational_analysis_of_big_data/exer_figures/example_6.2.3.1.png) for the first five splits.<br><br>\n",
    ">\n",
    ">2. Comment on decision path your code takes: How splits are there? Do you notice anything interesting about the final splits? Why do we choose to stop splitting before `data` get smaller than 5?\n",
    "\n",
    ">3. Train a `sklearn.tree.DecisionTreeClassifier` classifier on the dataset. Initiate the classifier with `criterion='entropy'`. What are the most important features of this classifier? How does this line up with the order of the order of splits you just printed (a comment is fine)?"
   ]
  },
  {
   "cell_type": "code",
   "execution_count": 13,
   "metadata": {},
   "outputs": [
    {
     "name": "stdout",
     "output_type": "stream",
     "text": [
      "Split 0: Avengers (comics)\n",
      "==========================\n",
      "   data0:\n",
      "      size: 32\n",
      "      entropy: 0.4489\n",
      "\n",
      "   data1:\n",
      "      size: 244\n",
      "      entropy: 1.4287\n",
      "\n",
      "-->   average entropy: 1.3151\n",
      "\n",
      "\n",
      "Split 1: X-Men\n",
      "==============\n",
      "   data0:\n",
      "      size: 30\n",
      "      entropy: 1.0530\n",
      "\n",
      "   data1:\n",
      "      size: 214\n",
      "      entropy: 1.3792\n",
      "\n",
      "-->   average entropy: 1.3391\n",
      "\n",
      "\n",
      "Split 2: Maggia (comics)\n",
      "========================\n",
      "   data0:\n",
      "      size: 10\n",
      "      entropy: -0.0000\n",
      "\n",
      "   data1:\n",
      "      size: 204\n",
      "      entropy: 1.4040\n",
      "\n",
      "-->   average entropy: 1.3384\n",
      "\n",
      "\n",
      "Split 3: X-Factor (comics)\n",
      "==========================\n",
      "   data0:\n",
      "      size: 4\n",
      "      entropy: 0.8113\n",
      "\n",
      "   data1:\n",
      "      size: 200\n",
      "      entropy: 1.3801\n",
      "\n",
      "-->   average entropy: 1.3689\n",
      "\n",
      "\n",
      "Split 4: Fantastic Four\n",
      "=======================\n",
      "   data0:\n",
      "      size: 4\n",
      "      entropy: -0.0000\n",
      "\n",
      "   data1:\n",
      "      size: 196\n",
      "      entropy: 1.3750\n",
      "\n",
      "-->   average entropy: 1.3475\n",
      "\n",
      "\n",
      "Split 5: The New Avengers (comics)\n",
      "==================================\n",
      "   data0:\n",
      "      size: 4\n",
      "      entropy: -0.0000\n",
      "\n",
      "   data1:\n",
      "      size: 192\n",
      "      entropy: 1.3683\n",
      "\n",
      "-->   average entropy: 1.3404\n",
      "\n",
      "\n",
      "Split 6: X-Mansion\n",
      "==================\n",
      "   data0:\n",
      "      size: 5\n",
      "      entropy: 0.7219\n",
      "\n",
      "   data1:\n",
      "      size: 187\n",
      "      entropy: 1.3515\n",
      "\n",
      "-->   average entropy: 1.3351\n",
      "\n",
      "\n",
      "Split 7: Sinister Six\n",
      "=====================\n",
      "   data0:\n",
      "      size: 7\n",
      "      entropy: 0.9852\n",
      "\n",
      "   data1:\n",
      "      size: 180\n",
      "      entropy: 1.3363\n",
      "\n",
      "-->   average entropy: 1.3232\n",
      "\n",
      "\n",
      "Split 8: Guardians of the Galaxy (2008 team)\n",
      "============================================\n",
      "   data0:\n",
      "      size: 4\n",
      "      entropy: -0.0000\n",
      "\n",
      "   data1:\n",
      "      size: 176\n",
      "      entropy: 1.3263\n",
      "\n",
      "-->   average entropy: 1.2968\n",
      "\n",
      "\n",
      "Split 9: Secret Warriors (Team White)\n",
      "=====================================\n",
      "   data0:\n",
      "      size: 4\n",
      "      entropy: 0.8113\n",
      "\n",
      "   data1:\n",
      "      size: 172\n",
      "      entropy: 1.3071\n",
      "\n",
      "-->   average entropy: 1.2958\n",
      "\n",
      "\n",
      "Split 10: Dark Avengers\n",
      "=======================\n",
      "   data0:\n",
      "      size: 3\n",
      "      entropy: 0.9183\n",
      "\n",
      "   data1:\n",
      "      size: 169\n",
      "      entropy: 1.2817\n",
      "\n",
      "-->   average entropy: 1.2754\n",
      "\n",
      "\n",
      "Split 11: Midnight Sons\n",
      "=======================\n",
      "   data0:\n",
      "      size: 3\n",
      "      entropy: 0.9183\n",
      "\n",
      "   data1:\n",
      "      size: 166\n",
      "      entropy: 1.2538\n",
      "\n",
      "-->   average entropy: 1.2478\n",
      "\n",
      "\n",
      "Split 12: Thunderbolts (comics)\n",
      "===============================\n",
      "   data0:\n",
      "      size: 8\n",
      "      entropy: 0.9544\n",
      "\n",
      "   data1:\n",
      "      size: 158\n",
      "      entropy: 1.2302\n",
      "\n",
      "-->   average entropy: 1.2169\n",
      "\n",
      "\n",
      "Split 13: Lethal Legion\n",
      "=======================\n",
      "   data0:\n",
      "      size: 7\n",
      "      entropy: -0.0000\n",
      "\n",
      "   data1:\n",
      "      size: 151\n",
      "      entropy: 1.2557\n",
      "\n",
      "-->   average entropy: 1.2001\n",
      "\n",
      "\n",
      "Split 14: Alpha Flight\n",
      "======================\n",
      "   data0:\n",
      "      size: 3\n",
      "      entropy: 0.9183\n",
      "\n",
      "   data1:\n",
      "      size: 148\n",
      "      entropy: 1.2332\n",
      "\n",
      "-->   average entropy: 1.2269\n",
      "\n",
      "\n",
      "Split 15: Avengers: The Initiative\n",
      "==================================\n",
      "   data0:\n",
      "      size: 3\n",
      "      entropy: 0.9183\n",
      "\n",
      "   data1:\n",
      "      size: 145\n",
      "      entropy: 1.2085\n",
      "\n",
      "-->   average entropy: 1.2026\n",
      "\n",
      "\n",
      "Split 16: Excalibur (comics)\n",
      "============================\n",
      "   data0:\n",
      "      size: 3\n",
      "      entropy: 0.9183\n",
      "\n",
      "   data1:\n",
      "      size: 142\n",
      "      entropy: 1.1815\n",
      "\n",
      "-->   average entropy: 1.1760\n",
      "\n",
      "\n",
      "Split 17: X-Corporation\n",
      "=======================\n",
      "   data0:\n",
      "      size: 3\n",
      "      entropy: 0.9183\n",
      "\n",
      "   data1:\n",
      "      size: 139\n",
      "      entropy: 1.1519\n",
      "\n",
      "-->   average entropy: 1.1469\n",
      "\n",
      "\n",
      "Split 18: Squadron Supreme\n",
      "==========================\n",
      "   data0:\n",
      "      size: 10\n",
      "      entropy: 1.2955\n",
      "\n",
      "   data1:\n",
      "      size: 129\n",
      "      entropy: 1.1054\n",
      "\n",
      "-->   average entropy: 1.1191\n",
      "\n",
      "\n",
      "Split 19: Squadron Sinister\n",
      "===========================\n",
      "   data0:\n",
      "      size: 1\n",
      "      entropy: -0.0000\n",
      "\n",
      "   data1:\n",
      "      size: 9\n",
      "      entropy: 0.9183\n",
      "\n",
      "-->   average entropy: 0.8265\n",
      "\n",
      "\n",
      "Split 20: Institute of Evil\n",
      "===========================\n",
      "   data0:\n",
      "      size: 2\n",
      "      entropy: -0.0000\n",
      "\n",
      "   data1:\n",
      "      size: 7\n",
      "      entropy: 0.5917\n",
      "\n",
      "-->   average entropy: 0.4602\n",
      "\n",
      "\n",
      "Split 21: People's Republic of China\n",
      "====================================\n",
      "   data0:\n",
      "      size: 1\n",
      "      entropy: -0.0000\n",
      "\n",
      "   data1:\n",
      "      size: 6\n",
      "      entropy: -0.0000\n",
      "\n",
      "-->   average entropy: -0.0000\n",
      "\n",
      "\n",
      "Max entropy path: 22\n"
     ]
    }
   ],
   "source": [
    "def lowest_split_entropy(data):\n",
    "    lowest = 2 #start with any integer. The highest entropy was about ~1.4\n",
    "    team_name = \"\"\n",
    "    for team in data:\n",
    "        if team != 'faction':\n",
    "            team_entropy = compute_avg_ent_feature(data,team)\n",
    "            if team_entropy < lowest:\n",
    "                lowest = team_entropy\n",
    "                team_name = team\n",
    "    return team_name\n",
    "\n",
    "\n",
    "def max_entropy_path(data):\n",
    "    path = 0\n",
    "    while data.shape[0] > 6: #putting this to 5 = infinite loop on A-Force team\n",
    "        lowest_team = lowest_split_entropy(data)\n",
    "        headline = \"Split %d: %s\" % (path,lowest_team)\n",
    "        print headline + \"\\n\" + \"=\"*len(headline)\n",
    "\n",
    "        s1,ent_1 = compute_entropy(data[data[lowest_team]==1])\n",
    "        s2,ent_2 = compute_entropy(data[data[lowest_team]==0])\n",
    "\n",
    "        print \"   data0:\\n      size: %d\\n      entropy: %.4f\\n\" % (s1, ent_1)\n",
    "        print \"   data1:\\n      size: %d\\n      entropy: %.4f\" % (s2, ent_2)\n",
    "        print \"\\n-->   average entropy: %.4f\\n\\n\" % compute_avg_ent_feature(data,lowest_team)\n",
    "\n",
    "        if ent_1 > ent_2:\n",
    "            data = data[data[lowest_team]==1]\n",
    "        else:\n",
    "            data = data[data[lowest_team]==0]\n",
    "        path += 1\n",
    "    return path\n",
    "path = max_entropy_path(ml_data)\n",
    "print \"Max entropy path: %d\" % path"
   ]
  },
  {
   "cell_type": "code",
   "execution_count": 19,
   "metadata": {},
   "outputs": [
    {
     "name": "stdout",
     "output_type": "stream",
     "text": [
      "[147 105 160 119 110 179  71 179 101 136 160 160 160  70 105 179 179 165\n",
      " 150 160  67  69 147 179 149 100 179 113 105 160 179 136 160 110 160 105\n",
      " 133 167  64 179 136 150 153 179 116  60  88 179  58 147  97 179  57 113\n",
      " 179 147 160 179 138 138 105 179 120  59  62 160 160 179 116 160 160 179\n",
      "  63 166 179 138  61 149 160  65 105  72  98  66 179 149 138 100 179 150\n",
      " 167  55 179  74 160  68 160 179  86  88  74 179 101  52  95 179 149 179\n",
      " 131 179  96 179 150 167 160 179 179 179  50  50  56 125  50  50 125  50\n",
      "  50  52  50 125  50  50  52 125  50  50  50  50  50 172  50  99  50  50\n",
      "  50  50 154  50  50  50  50  50 106  50  50  50  50 154  50  50 154 125\n",
      "  50  94  50  50  50  50  50  50  50  50 154 107  53 107  50  50  50  50\n",
      "  77  50  50  50  50  50 121 121  50  50  50  50 154 145  50  50  52  57\n",
      "  50 121 154  50  75  50  50 121 154  50  50 121 154 154 145  50  50  50\n",
      " 154 144  50  50  50 142  52 175  50  50 121  50  50  50 121  50  50  50\n",
      "  50  50  50  53  50  83 117 181  80 182 127 137  87 120 108 143 130 133\n",
      " 180 164  84 171 111 142 148  78 174 152 128 142  82  81  79 130 169 134\n",
      " 168 174 114 152 152 126]\n"
     ]
    }
   ],
   "source": [
    "import sklearn.tree\n",
    "tree_classifier = sklearn.tree.DecisionTreeClassifier(criterion='entropy')\n",
    "tree_classifier.fit(features,target)\n",
    "\n",
    "x = tree_classifier.apply(features)\n",
    "print x"
   ]
  },
  {
   "cell_type": "markdown",
   "metadata": {},
   "source": [
    "### Part 2 (extra): Dimensionality reduction (PCA and ICA)"
   ]
  },
  {
   "cell_type": "markdown",
   "metadata": {},
   "source": [
    "The point of this exercise is to learn how to visualize high-dimensional data, and get a feeling of how your Marvel data looks when projected to a plane."
   ]
  },
  {
   "cell_type": "markdown",
   "metadata": {
    "ExecuteTime": {
     "end_time": "2017-08-23T14:01:10.834257Z",
     "start_time": "2017-08-23T14:01:10.826472Z"
    }
   },
   "source": [
    ">**Ex. 5.2.1**: Apply a PCA transformation to your data. If `X` is your feature matrix, PCA works like:\n",
    "\n",
    ">        pca = sklearn.decomposition.PCA()\n",
    ">        pca.fit(X)\n",
    ">        X_pca = pca.transform(X)\n",
    "\n",
    ">1. What is the dimensionality of `X_pca` compared to `X`? What happened to `X` when you transformed it?\n",
    "2. Plot the first two components/columns of the transformed data and color the points by their class label. My plot looks [like this](http://ulfaslak.com/computational_analysis_of_big_data/exer_figures/example_6.1.1.2.png). Comment on the result. What would plotting two other components against each other show you?\n",
    "3. Plot the explained variance ratio of each component. What does this tell you about the dataset? My plot looks [like this](http://ulfaslak.com/computational_analysis_of_big_data/exer_figures/example_6.1.1.3.png).\n",
    "\n",
    ">*Hint for 2: `plt.scatter` takes an argument `color` which must receive either a string such as `red` or `blue`, or a list of rgb values or strings such as `['red', 'blue', 'blue', ...]`.*"
   ]
  },
  {
   "cell_type": "code",
   "execution_count": 7,
   "metadata": {},
   "outputs": [],
   "source": [
    "import sklearn.decomposition\n",
    "pca = sklearn.decomposition.PCA()\n",
    "\n",
    "pca.fit(features)\n",
    "X_pca = pca.transform(features)"
   ]
  },
  {
   "cell_type": "code",
   "execution_count": 10,
   "metadata": {},
   "outputs": [
    {
     "name": "stdout",
     "output_type": "stream",
     "text": [
      "(276L, 276L) (276, 288)\n"
     ]
    }
   ],
   "source": [
    "print X_pca.shape, features.shape"
   ]
  },
  {
   "cell_type": "code",
   "execution_count": null,
   "metadata": {},
   "outputs": [],
   "source": []
  },
  {
   "cell_type": "markdown",
   "metadata": {
    "ExecuteTime": {
     "end_time": "2017-08-23T14:01:10.834257Z",
     "start_time": "2017-08-23T14:01:10.826472Z"
    }
   },
   "source": [
    ">**Ex. 5.2.2**: In a similar fashion, apply an ICA transformation to your data.\n",
    "\n",
    ">1. Read about [ICA](https://en.wikipedia.org/wiki/Independent_component_analysis).\n",
    "2. Plot the the transformed data on a number of different ICA components. Color the points by their class label. Comment on the differences between the result of ICA and PCA."
   ]
  },
  {
   "cell_type": "code",
   "execution_count": null,
   "metadata": {
    "collapsed": true
   },
   "outputs": [],
   "source": []
  }
 ],
 "metadata": {
  "kernelspec": {
   "display_name": "Python 2",
   "language": "python",
   "name": "python2"
  },
  "language_info": {
   "codemirror_mode": {
    "name": "ipython",
    "version": 2
   },
   "file_extension": ".py",
   "mimetype": "text/x-python",
   "name": "python",
   "nbconvert_exporter": "python",
   "pygments_lexer": "ipython2",
   "version": "2.7.15"
  },
  "nav_menu": {},
  "toc": {
   "navigate_menu": true,
   "number_sections": false,
   "sideBar": true,
   "threshold": 6,
   "toc_cell": false,
   "toc_section_display": "block",
   "toc_window_display": true
  }
 },
 "nbformat": 4,
 "nbformat_minor": 2
}

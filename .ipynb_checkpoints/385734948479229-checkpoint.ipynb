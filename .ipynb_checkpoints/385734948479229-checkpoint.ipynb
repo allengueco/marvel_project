{
 "cells": [
  {
   "cell_type": "markdown",
   "metadata": {},
   "source": [
    "# Assignment 1"
   ]
  },
  {
   "cell_type": "markdown",
   "metadata": {},
   "source": [
    "**Handin in Peergrade**: *Wednesday*, October 3, 23:59<br>\n",
    "**Peergrading deadline**: *Wednesday*, October 10, 23:59<br>\n",
    "**Peergrading feedback deadline**: *Sunday*, October 14, 23:59\n",
    "\n",
    "**Peergrade link**: https://app.peergrade.io/join <br>\n",
    "**Peergrade code**: 3TYFF7"
   ]
  },
  {
   "cell_type": "markdown",
   "metadata": {},
   "source": [
    "[**Questions**](https://github.com/ulfaslak/computational_analysis_of_big_data_2018_fall/issues) **/** [**Feedback**](https://ulfaslak.com/vent)"
   ]
  },
  {
   "cell_type": "markdown",
   "metadata": {},
   "source": [
    "## Problems"
   ]
  },
  {
   "cell_type": "markdown",
   "metadata": {},
   "source": [
    "### Week 1"
   ]
  },
  {
   "cell_type": "markdown",
   "metadata": {},
   "source": [
    ">**Ex. 1.2.2**: Working with JSON files\n",
    ">1. Use [`requests`](https://www.google.dk/search?q=python+requests+get+json&gws_rd=cr&ei=M5OdWaewD8Ti6AS54J24Bg), or another Python module, to store **[this data](https://www.reddit.com/r/gameofthrones/.json)** in a new variable `data`. Store it as a `dict` type object (you can print its type by running `type(data)`)."
   ]
  },
  {
   "cell_type": "code",
   "execution_count": 1,
   "metadata": {},
   "outputs": [
    {
     "name": "stdout",
     "output_type": "stream",
     "text": [
      "<type 'dict'>\n"
     ]
    }
   ],
   "source": [
    "import requests\n",
    "\n",
    "# header used to identify requester\n",
    "headers = {'user-agent': 'my-app/0.0.1'}\n",
    "\n",
    "r = requests.get(\"https://www.reddit.com/r/gameofthrones/.json\", headers=headers)\n",
    "data = r.json()\n",
    "\n",
    "print(type(data))"
   ]
  },
  {
   "cell_type": "markdown",
   "metadata": {},
   "source": [
    ">**Ex 1.2.5**: Write two `for` loops (or list comprehensions for extra street credits) which:\n",
    ">1. Counts the number of spoilers.\n",
    ">2. Only prints headlines that aren't spoilers."
   ]
  },
  {
   "cell_type": "code",
   "execution_count": 2,
   "metadata": {},
   "outputs": [
    {
     "name": "stdout",
     "output_type": "stream",
     "text": [
      "Number of spoilers: 8\n",
      "Headlines that aren't spoilers: \n",
      "[SPOILERS] Stark/Targaryen jack-o-lantern with dragon projection in a craft pumpkin!\n",
      "[NO SPOILERS] Just got this in at work thought you folks might like it.\n",
      "[NO SPOILERS] Since these seem popular, here is my Targaryen pumpkin from 2 years ago (first attempt - ~5 hours work, or so)\n",
      "[NO SPOILERS] Check Out This Drogon Model I Made for Someone\n",
      "[NO SPOILERS] Why are Jon and Daenerys such controversial characters?\n",
      "[NO SPOILERS] Kit Harington is going to be giving a talk in London on October 13th to chat about all things Game of Thrones\n",
      "[No Spoilers] Khalessi and The White Walker King image\n",
      "[NO SPOILERS] Arya’s sword 🗡\n",
      "[SPOILERS] Not a fake or a joke: this image is from an HBO press release announcing the new \"White Walker: Limited Edition Blended Scotch Whiskey\" by Johnnie Walker! :o\n",
      "[NO SPOILERS] Got this in the mail today\n",
      "[SPOILERS] Raymond Terutama's Portrait of House Greyjoy\n",
      "[Spoilers] A missing Game of Thrones character is back for more screen time in season 8\n",
      "[No Spoilers] if you had to recast all the characters, who would your choices be\n",
      "[No Spoilers] A set of coasters I painted about a month ago. House Stark, House Mormont, House Targaryen, and House Lannister. The backs have the Game of Thrones logo. Super happy with how they turned out\n",
      "[NO SPOILERS] Never watched the show. Currently reading the book series. What should I do?\n",
      "[SPOILERS] My first fan art drawing\n",
      "[No Spoilers]Full List of Scotch Whiskeys Participating in GOT's Single Malt Scotch Whisky Collection\n",
      "[Spoilers] Why George R.R. Martin Doesn't Watch Game of Thrones Anymore\n"
     ]
    }
   ],
   "source": [
    "print \"Number of spoilers: \" + str(len([elem['data']['spoiler'] for elem in data['data']['children'] if elem['data']['spoiler'] == True]))\n",
    "print \"Headlines that aren't spoilers: \"\n",
    "x = [elem['data']['title'] for elem in data['data']['children'] if elem['data']['spoiler'] == False]\n",
    "for elem in x:\n",
    "    print elem"
   ]
  },
  {
   "cell_type": "markdown",
   "metadata": {},
   "source": [
    "### Week 2"
   ]
  },
  {
   "cell_type": "markdown",
   "metadata": {},
   "source": [
    ">**Ex 2.1.5**: Take another list `b = list(\"ofcourseistillloveyou\")` and\n",
    "1. get the `set` of characters that exist in both `a` and `b` (intersection),\n",
    "2. get the `set` of characters that exist in either `a` or `b` (union), and\n",
    "3. compute the [Jaccard similarity](https://en.wikipedia.org/wiki/Jaccard_index) between the distinct elements in `a` and `b`.\n",
    "\n",
    ">*Hint: use the `set` function to get a `set`-type object of distinct elements from a list*"
   ]
  },
  {
   "cell_type": "code",
   "execution_count": 3,
   "metadata": {},
   "outputs": [
    {
     "name": "stdout",
     "output_type": "stream",
     "text": [
      "set(['c', 'e', 'i', 'o', 's', 'r', 'u', 't'])\n",
      "set(['a', 'c', 'e', 'd', 'f', 'i', 'h', 'j', 'l', 'o', 'n', 's', 'r', 'u', 't', 'v', 'y'])\n",
      "0.470588235294\n"
     ]
    }
   ],
   "source": [
    "from __future__ import division\n",
    "\n",
    "a = list(\"justreadtheinstructions\")\n",
    "b = list(\"ofcourseistillloveyou\")\n",
    "\n",
    "a1 = set(a)\n",
    "b1 = set(b)\n",
    "\n",
    "print a1.intersection(b1)\n",
    "print a1.union(b1)\n",
    "print len(a1.intersection(b1))/len(a1.union(b1))"
   ]
  },
  {
   "cell_type": "markdown",
   "metadata": {},
   "source": [
    ">**Ex. 2.2.4**: Looking at the scatter plots there appears to be some unevenness in the number of comments and upvotes that different posts receive.\n",
    "1. Plot the distributions of `x` for \"gameofthrones\" and \"news\" as histograms, side by side. My figure looks like [this](http://ulfaslak.com/computational_analysis_of_big_data/exer_figures/example_2.2c.png). It does not have to match exactly, but if there are large differences you should comment on them.\n",
    "2. What do these distributions say about how people comment on Reddit?"
   ]
  },
  {
   "cell_type": "code",
   "execution_count": 6,
   "metadata": {},
   "outputs": [
    {
     "name": "stdout",
     "output_type": "stream",
     "text": [
      "Retrieved 25 posts from page \n",
      "Retrieved 25 posts from page t3_9kghm3\n",
      "Retrieved 25 posts from page t3_9k6um0\n",
      "Retrieved 25 posts from page t3_9juagf\n",
      "Retrieved 25 posts from page t3_9jh2i5\n",
      "Retrieved 25 posts from page t3_9iyt33\n",
      "Retrieved 25 posts from page t3_9idesi\n",
      "Retrieved 25 posts from page t3_9i8xn1\n",
      "Retrieved 25 posts from page t3_9i52lb\n",
      "Retrieved 25 posts from page t3_9hxwdn\n",
      "Retrieved 25 posts from page t3_9he4cp\n",
      "Retrieved 25 posts from page t3_9h19hf\n",
      "Retrieved 25 posts from page t3_9gr1zw\n",
      "Retrieved 25 posts from page t3_9gq55d\n",
      "Retrieved 25 posts from page t3_9g4e6l\n",
      "Retrieved 25 posts from page t3_9g0d3d\n",
      "Retrieved 25 posts from page t3_9fp4y5\n",
      "Retrieved 25 posts from page t3_9f8lwj\n",
      "Retrieved 25 posts from page t3_9f093v\n",
      "Retrieved 25 posts from page t3_9eerak\n",
      "Retrieved 25 posts from page \n",
      "Retrieved 25 posts from page t3_9kfp6w\n",
      "Retrieved 25 posts from page t3_9koctj\n",
      "Retrieved 25 posts from page t3_9k5kfs\n",
      "Retrieved 25 posts from page t3_9k5s2z\n",
      "Retrieved 25 posts from page t3_9jrvus\n",
      "Retrieved 25 posts from page t3_9jwrsg\n",
      "Retrieved 25 posts from page t3_9jrzdv\n",
      "Retrieved 25 posts from page t3_9jhgb4\n",
      "Retrieved 25 posts from page None\n",
      "Retrieved 25 posts from page t3_9kfp6w\n",
      "Retrieved 25 posts from page t3_9koctj\n",
      "Retrieved 25 posts from page t3_9k5kfs\n",
      "Retrieved 25 posts from page t3_9k5s2z\n",
      "Retrieved 25 posts from page t3_9jrvus\n",
      "Retrieved 25 posts from page t3_9jwrsg\n",
      "Retrieved 25 posts from page t3_9jrzdv\n",
      "Retrieved 25 posts from page t3_9jhgb4\n",
      "Retrieved 25 posts from page None\n",
      "Retrieved 25 posts from page t3_9kfp6w\n"
     ]
    },
    {
     "data": {
      "image/png": "[encoded data removed]",
      "text/plain": [
       "<Figure size 432x288 with 2 Axes>"
      ]
     },
     "metadata": {},
     "output_type": "display_data"
    }
   ],
   "source": [
    "import requests as rq\n",
    "from collections import Counter\n",
    "import seaborn as sns\n",
    "import numpy as np\n",
    "from matplotlib import pyplot as plt\n",
    "%matplotlib inline\n",
    "\n",
    "# defines a function get_x_y with arguments subreddit, N, and count (whose default is 25)\n",
    "def get_x_y(subreddit, N, count=25):\n",
    "    \n",
    "    # defines a function _get_data with arguments subreddit, count, and after\n",
    "    def _get_data(subreddit, count, after):\n",
    "        # adds in arguments to url string\n",
    "        url = \"https://www.reddit.com/r/%s/.json?count=%d&after=%s\" % (subreddit, count, after)\n",
    "        # gets data from url as json\n",
    "        data = rq.get(url, headers = {'User-agent': 'sneakybot'}).json()\n",
    "        # prints message detailing how many posts were retrieved from which page\n",
    "        print \"Retrieved %d posts from page %s\" % (count, after)\n",
    "        return data\n",
    "    \n",
    "    # defines a variable after to be an empty string\n",
    "    after = \"\"\n",
    "    \n",
    "    # defines two empty lists, x and y\n",
    "    x, y = [], []\n",
    "    # loops through numbers between 0 and N/count\n",
    "    for n in range(int(N/count)):\n",
    "        # calls _get_data\n",
    "        data = _get_data(subreddit, count, after)\n",
    "        # loops through data\n",
    "        for d in data['data']['children']:\n",
    "            # appends the number of comments to x\n",
    "            x.append(d['data']['num_comments'])\n",
    "            # appends the score to y\n",
    "            y.append(d['data']['score'])\n",
    "        # updates after\n",
    "        after = data['data']['after']\n",
    "    # returns a list of number of comments and a list of scores\n",
    "    return x, y\n",
    "\n",
    "# calls get_x_y\n",
    "x, y = get_x_y(\"gameofthrones\", 500, count=25)\n",
    "z, w = get_x_y(\"news\", 500, count=25)\n",
    "\n",
    "plt.subplot(1, 3, 1)\n",
    "plt.hist(x, 10, color=\"green\")\n",
    "plt.title(\"Game of Thrones\")\n",
    "plt.xlabel(\"Number of Comments\")\n",
    "plt.ylabel(\"Bin Count\")\n",
    "plt.subplot(1, 3, 3)\n",
    "plt.hist(z, 10)\n",
    "plt.title(\"News\")\n",
    "plt.xlabel(\"Number of Comments\")\n",
    "plt.ylabel(\"Bin Count\")\n",
    "plt.show()"
   ]
  },
  {
   "cell_type": "markdown",
   "metadata": {},
   "source": [
    ">**Ex. 2.3.5**: Create a $5 \\times 5$ array `X` (a matrix) with random numbers and $5 \\times 1$ array `a` (a tall vector) with 5 random numbers.\n",
    "1. Compute the matrix-vector dot product between these two. Use `numpy`'s `dot` method. \n",
    "2. What happens if you just use `*` instead of `np.dot`? Explain."
   ]
  },
  {
   "cell_type": "code",
   "execution_count": 8,
   "metadata": {},
   "outputs": [
    {
     "name": "stdout",
     "output_type": "stream",
     "text": [
      "[[0.95552948 0.27888393 0.36959806 0.59986504 0.82665336]\n",
      " [0.20345199 0.92693826 0.88298096 0.77894913 0.47689831]\n",
      " [0.96515232 0.20872761 0.06487981 0.39709787 0.02736064]\n",
      " [0.41282076 0.80071899 0.36891262 0.71425428 0.02154374]\n",
      " [0.85810781 0.82769109 0.54837383 0.25016401 0.50552237]]\n",
      "[[0.64367226]\n",
      " [0.6542756 ]\n",
      " [0.91325867]\n",
      " [0.78941586]\n",
      " [0.91680356]]\n",
      "[[2.36647512]\n",
      " [2.59595636]\n",
      " [1.15561889]\n",
      " [1.71011985]\n",
      " [2.25563358]]\n",
      "[[0.61504782 0.17950985 0.23790002 0.38611649 0.53209384]\n",
      " [0.13311367 0.60647308 0.5777129  0.50964741 0.31202292]\n",
      " [0.88143372 0.1906223  0.05925204 0.36265307 0.02498734]\n",
      " [0.32588725 0.63210027 0.29122547 0.56384366 0.01700697]\n",
      " [0.7867163  0.75883014 0.50275108 0.22935126 0.46346471]]\n"
     ]
    }
   ],
   "source": [
    "x = np.random.rand(5, 5)\n",
    "print x\n",
    "y = np.random.rand(5, 1)\n",
    "print y\n",
    "print np.dot(x, y)\n",
    "print x * y"
   ]
  },
  {
   "cell_type": "markdown",
   "metadata": {},
   "source": [
    "Using * multiplies each row of x by the value in the corresponding row in y."
   ]
  },
  {
   "cell_type": "markdown",
   "metadata": {},
   "source": [
    ">**Ex. 2.4.1**: Take a vector `a = [1, 3, 2, 5, 3, 1, 5, 1, 9000]`:\n",
    "1. Compute the mean of `a` using `numpy`.\n",
    "2. How is median defined? Compute the median of `a` using `numpy`.\n",
    "3. For `a`, why might it make sense to take the median more seriously than the mean?"
   ]
  },
  {
   "cell_type": "code",
   "execution_count": 9,
   "metadata": {},
   "outputs": [
    {
     "name": "stdout",
     "output_type": "stream",
     "text": [
      "1002.3333333333334\n",
      "3.0\n"
     ]
    }
   ],
   "source": [
    "a = [1, 3, 2, 5, 3, 1, 5, 1, 9000]\n",
    "print np.mean(a)\n",
    "print np.median(a)"
   ]
  },
  {
   "cell_type": "markdown",
   "metadata": {},
   "source": [
    "The median is the middle-most value or the average of the two middle-most values.\n",
    "Since a has an outlier (9000), the mean is extremely skewed and it makes sense to take the median more seriously than the mean."
   ]
  },
  {
   "cell_type": "markdown",
   "metadata": {},
   "source": [
    "### Week 3"
   ]
  },
  {
   "cell_type": "markdown",
   "metadata": {
    "ExecuteTime": {
     "end_time": "2017-08-23T14:01:10.834257Z",
     "start_time": "2017-08-23T14:01:10.826472Z"
    }
   },
   "source": [
    ">**Ex. 3.1.1**: From the Wikipedia API, get a list of all Marvel superheroes and another list of all Marvel supervillains. Use 'Category:Marvel_Comics_supervillains' and 'Category:Marvel_Comics_superheroes' to get the characters in each category.\n",
    "1. How many superheroes are there? How many supervillains?\n",
    "2. How many characters are both heroes and villains? What is the Jaccard similarity between the two groups?\n",
    "\n",
    ">*Hint: Google something like \"get list all pages in category wikimedia api\" if you're struggling with the query.*"
   ]
  },
  {
   "cell_type": "code",
   "execution_count": 15,
   "metadata": {},
   "outputs": [
    {
     "name": "stdout",
     "output_type": "stream",
     "text": [
      "Number of Superheroes: 941\n",
      "Number of Supervillains: 1222\n",
      "Number of Characters that are both Superheroes and Supervillains: 167\n",
      "Jaccard similarity: 0.083667\n"
     ]
    }
   ],
   "source": [
    "def getCategorySet(category):\n",
    "    baseQuery = \"https://en.wikipedia.org/w/api.php?format=json&cmtitle=Category:%s&action=query&list=categorymembers&cmlimit=500\" % category\n",
    "    response = rq.get(baseQuery).json()\n",
    "    items = set()\n",
    "    while \"continue\" in response:\n",
    "        for item in response[\"query\"][\"categorymembers\"]:\n",
    "            items.add(item[\"title\"])\n",
    "        query = baseQuery + \"&cmcontinue=\" + response[\"continue\"][\"cmcontinue\"]\n",
    "        response = rq.get(query).json()\n",
    "    for item in response[\"query\"][\"categorymembers\"]:\n",
    "        items.add(item[\"title\"])\n",
    "    return items\n",
    "\n",
    "heroes = getCategorySet(\"Marvel_Comics_superheroes\")\n",
    "villains = getCategorySet(\"Marvel_Comics_supervillains\")\n",
    "\n",
    "print \"Number of Superheroes: %d\" % len(heroes)\n",
    "print \"Number of Supervillains: %d\" % len(villains)\n",
    "\n",
    "ambiguous = heroes.intersection(villains)\n",
    "\n",
    "print \"Number of Characters that are both Superheroes and Supervillains: %d\" % len(ambiguous)\n",
    "\n",
    "similarity = float(len(ambiguous))/len(heroes.union(villains))\n",
    "print \"Jaccard similarity: %f\" % similarity"
   ]
  },
  {
   "cell_type": "markdown",
   "metadata": {},
   "source": [
    ">**Ex. 3.2.1**: Extract the length of the page of each character, and plot the distribution of this variable for each class (heroes/villains/ambiguous). Can you say anything about the popularity of characters in the Marvel universe based on your visualization?\n",
    "\n",
    ">*Hint: The simplest thing is to make a probability mass function, i.e. a normalized histogram. Use `plt.hist` on a list of page lengths, with the argument `normed=True`. Other distribution plots are fine too, though.*"
   ]
  },
  {
   "cell_type": "code",
   "execution_count": 25,
   "metadata": {},
   "outputs": [
    {
     "data": {
      "image/png": "[encoded data removed]",
      "text/plain": [
       "<Figure size 432x288 with 1 Axes>"
      ]
     },
     "metadata": {},
     "output_type": "display_data"
    },
    {
     "data": {
      "image/png": "[encoded data removed]",
      "text/plain": [
       "<Figure size 432x288 with 1 Axes>"
      ]
     },
     "metadata": {},
     "output_type": "display_data"
    },
    {
     "data": {
      "image/png": "[encoded data removed]",
      "text/plain": [
       "<Figure size 432x288 with 1 Axes>"
      ]
     },
     "metadata": {},
     "output_type": "display_data"
    }
   ],
   "source": [
    "import os\n",
    "\n",
    "def getPageLengths(category):\n",
    "    pageLengths = []\n",
    "    path = \"data/\" + category + \"/\"\n",
    "    for file in os.listdir(path):\n",
    "        with open(path + file, 'r') as f:\n",
    "            pageLengths.append(len(f.read()))\n",
    "    return pageLengths\n",
    "ambiguousPageLengths = getPageLengths(\"ambiguous\")\n",
    "heroPageLengths = getPageLengths(\"heroes\")\n",
    "villainPageLengths = getPageLengths(\"villains\")\n",
    "\n",
    "plt.hist(ambiguousPageLengths, density=True)\n",
    "plt.xlabel(\"Page Length\")\n",
    "plt.ylabel(\"Normalized Bin Count\")\n",
    "plt.title(\"Ambiguous\")\n",
    "plt.show()\n",
    "\n",
    "plt.hist(heroPageLengths, density=True)\n",
    "plt.xlabel(\"Page Length\")\n",
    "plt.ylabel(\"Normalized Bin Count\")\n",
    "plt.title(\"Heroes\")\n",
    "plt.show()\n",
    "\n",
    "plt.hist(villainPageLengths, density=True)\n",
    "plt.xlabel(\"Page Length\")\n",
    "plt.ylabel(\"Normalized Bin Count\")\n",
    "plt.title(\"Villains\")\n",
    "plt.show()"
   ]
  },
  {
   "cell_type": "markdown",
   "metadata": {},
   "source": [
    "The page lengths of Wikipedia articles associated with superheroes seems to be longer than the page lengths of articles associated with supervillains and characters that are both heroes and villains. This leads us to believe that heroes may be more popular than the other two categories."
   ]
  },
  {
   "cell_type": "markdown",
   "metadata": {},
   "source": [
    ">**Ex. 3.2.2**: Find the 10 characters from each class with the longest Wikipedia pages. Visualize their page lengths with bar charts. Comment on the result."
   ]
  },
  {
   "cell_type": "code",
   "execution_count": 40,
   "metadata": {},
   "outputs": [
    {
     "data": {
      "image/png": "[encoded data removed]",
      "text/plain": [
       "<Figure size 432x288 with 1 Axes>"
      ]
     },
     "metadata": {},
     "output_type": "display_data"
    },
    {
     "data": {
      "image/png": "[encoded data removed]",
      "text/plain": [
       "<Figure size 432x288 with 1 Axes>"
      ]
     },
     "metadata": {},
     "output_type": "display_data"
    },
    {
     "data": {
      "image/png": "[encoded data removed]",
      "text/plain": [
       "<Figure size 432x288 with 1 Axes>"
      ]
     },
     "metadata": {},
     "output_type": "display_data"
    }
   ],
   "source": [
    "import operator\n",
    "\n",
    "def getTopTenPageLength(category):\n",
    "    pageLengths = dict()\n",
    "    path = \"data/\" + category + \"/\"\n",
    "    for file in os.listdir(path):\n",
    "        with open(path + file, 'r') as f:\n",
    "            pageLengths[file.split(\".txt\")[0]] = len(f.read())\n",
    "    sortedPageLengths = sorted(pageLengths.items(), key=operator.itemgetter(1), reverse=True)\n",
    "    return ([x[0] for x in sortedPageLengths[0:10]], [x[1] for x in sortedPageLengths[0:10]])\n",
    "\n",
    "ambiguousCharacters, ambiguousPageLengths = getTopTenPageLength(\"ambiguous\")\n",
    "heroCharacters, heroPageLengths = getTopTenPageLength(\"heroes\")\n",
    "villainCharacters, villainPageLengths = getTopTenPageLength(\"villains\")\n",
    "\n",
    "plt.barh(ambiguousCharacters, ambiguousPageLengths)\n",
    "plt.ylabel(\"Character\")\n",
    "plt.xlabel(\"Page Length\")\n",
    "plt.title(\"Ambiguous\")\n",
    "plt.show()\n",
    "\n",
    "plt.barh(heroCharacters, heroPageLengths)\n",
    "plt.ylabel(\"Character\")\n",
    "plt.xlabel(\"Page Length\")\n",
    "plt.title(\"Hero\")\n",
    "plt.show()\n",
    "\n",
    "plt.barh(villainCharacters, villainPageLengths)\n",
    "plt.ylabel(\"Character\")\n",
    "plt.xlabel(\"Page Length\")\n",
    "plt.title(\"Villain\")\n",
    "plt.show()"
   ]
  },
  {
   "cell_type": "markdown",
   "metadata": {},
   "source": [
    "These plots show that page length is positively correlated with popularity, since the characters in these bar plots are, for the most part, characters that we have heard of."
   ]
  },
  {
   "cell_type": "markdown",
   "metadata": {},
   "source": [
    ">**Ex. 3.2.3**: We are interested in knowing if there is a time-trend in the debut of characters.\n",
    "* Extract into three lists, debut years of heroes, villains, and ambiguous characters.\n",
    "* Do all pages have a debut year? Do some have multiple? How do you handle these inconsistencies?\n",
    "* For each class, visualize the amount of characters introduced over time. You choose how you want to visualize this data, but please comment on your choice. Also comment on the outcome of your analysis.\n",
    "\n",
    ">*Hint: The debut year is given on the debut row in the info table of a character's Wiki-page. There are many ways that you can extract this variable. You should try to have a go at it yourself, but if you are short on time, you can use this horribly ugly regular expression code:*\n",
    "\n",
    ">*`re.findall(r\"\\d{4}\\)\", re.findall(r\"debut.+?\\n\", markup_text)[0])[0][:-1]`*"
   ]
  },
  {
   "cell_type": "code",
   "execution_count": 66,
   "metadata": {},
   "outputs": [
    {
     "data": {
      "image/png": "[encoded data removed]",
      "text/plain": [
       "<Figure size 432x288 with 1 Axes>"
      ]
     },
     "metadata": {},
     "output_type": "display_data"
    },
    {
     "data": {
      "image/png": "[encoded data removed]",
      "text/plain": [
       "<Figure size 432x288 with 1 Axes>"
      ]
     },
     "metadata": {},
     "output_type": "display_data"
    },
    {
     "data": {
      "image/png": "[encoded data removed]",
      "text/plain": [
       "<Figure size 432x288 with 1 Axes>"
      ]
     },
     "metadata": {},
     "output_type": "display_data"
    }
   ],
   "source": [
    "import re\n",
    "\n",
    "def getDebutYears(category):\n",
    "    debutYears = []\n",
    "    path = \"data/\" + category + \"/\"\n",
    "    for file in os.listdir(path):\n",
    "        with open(path + file, 'r') as f:\n",
    "            markup_text = f.read()\n",
    "            try:\n",
    "                debutYear = re.findall(r\"\\d{4}\\)\", re.findall(r\"debut.+?\\n\", markup_text)[0])[0][:-1]\n",
    "                debutYears.append(debutYear)\n",
    "            except IndexError:\n",
    "                pass\n",
    "    return debutYears\n",
    "\n",
    "ambiguousDebuts = getDebutYears(\"ambiguous\")\n",
    "heroDebuts = getDebutYears(\"heroes\")\n",
    "villainDebuts = getDebutYears(\"villains\")\n",
    "\n",
    "plt.hist(ambiguousDebuts)\n",
    "plt.xlabel(\"Year\")\n",
    "plt.ylabel(\"Bin Count\")\n",
    "plt.title(\"Ambiguous\")\n",
    "plt.show()\n",
    "\n",
    "plt.hist(heroDebuts)\n",
    "plt.xlabel(\"Year\")\n",
    "plt.ylabel(\"Bin Count\")\n",
    "plt.title(\"Hero\")\n",
    "plt.show()\n",
    "\n",
    "plt.hist(villainDebuts)\n",
    "plt.xlabel(\"Year\")\n",
    "plt.ylabel(\"Bin Count\")\n",
    "plt.title(\"Villain\")\n",
    "plt.show()"
   ]
  },
  {
   "cell_type": "markdown",
   "metadata": {},
   "source": [
    "We chose to visualize our data using histograms because we were interested to see the number of characters debuting in different year bins. Our plots show that, over time, less and less characters are introduced."
   ]
  },
  {
   "cell_type": "markdown",
   "metadata": {},
   "source": [
    "### Week 4"
   ]
  },
  {
   "cell_type": "markdown",
   "metadata": {},
   "source": [
    "*If you had trouble boulding a team alliance matrix, use mine. You can load it as a pandas.DataFrame, with pd.read_csv('affiliations.csv', index_col=0).* <br>***Important:*** *The rightmost column is the target array.*"
   ]
  },
  {
   "cell_type": "markdown",
   "metadata": {},
   "source": [
    "> **Ex. 4.2.1**: Train a classifier on all of your data and test its accuracy.\n",
    "\n",
    ">* If your team alliance matrix is `X_ta` and your target array is `y_ta` you can do this by instantiating a model like:\n",
    ">\n",
    "        from sklearn.naive_bayes import BernoulliNB\n",
    "        model = BernoulliNB()\n",
    "        model.fit(X_ta, y_ta)  # <--- This is the training/fitting/learning step\n",
    "        \n",
    "> The `BernoulliNB` is a version of the Naive Bayes classifier which associates certain features with labels and asks what the probability of a label for a data point is given its features. You are free to use any other classifier if you want. Popular ones are trees, random forests, support vector machines, feed forward neural networks, logistic regression, and the list goes on. With `sklearn`, they are just as easy to employ as the `BernoulliNB` classifier.\n",
    "\n",
    "\n",
    ">1. Test the accuracy of your model. You can use the `.predict` method on the `model` object to get predictions for a matrix of data points. Report the accuracy of your model on the same data that you trained the model on, alongside the baseline accuracy of a \"dumb\" model that only guesses for the majority class.\n",
    "\n",
    ">2. Report the precision, recall and F1 scores, with respect to the minority class (heroes). `sklearn` has implementations that you can use if you are short for time. Extra credit for doing it using only basic linear algebra operations with `numpy`, though.\n",
    "\n",
    "*Hint: If you loaded the alliances/affiliations matrix that I provided, you should make sure to seperate it into feature matrix, `X_ta`, and target array, `y_ta`, before you do anything else.*"
   ]
  },
  {
   "cell_type": "code",
   "execution_count": 91,
   "metadata": {},
   "outputs": [
    {
     "name": "stdout",
     "output_type": "stream",
     "text": [
      "Accuracy: 0.857741\n",
      "             precision    recall  f1-score   support\n",
      "\n",
      "          1       0.97      0.74      0.84       118\n",
      "\n",
      "avg / total       0.97      0.74      0.84       118\n",
      "\n",
      "1 value represents minority class (heroes)\n"
     ]
    }
   ],
   "source": [
    "import pandas as pd\n",
    "from sklearn.naive_bayes import BernoulliNB\n",
    "from sklearn import metrics\n",
    "\n",
    "alliances = pd.read_csv(\"data/affiliations.csv\", index_col = 0)\n",
    "roles = alliances['faction']\n",
    "non_ambiguous_alliances = alliances.copy()\n",
    "ambiguous_alliances = alliances.copy()\n",
    "for index, row in non_ambiguous_alliances.iterrows():\n",
    "    if(row['faction'] == 2): non_ambiguous_alliances.drop(index, inplace=True)\n",
    "non_ambiguous_roles = non_ambiguous_alliances['faction']\n",
    "alliances_copy = non_ambiguous_alliances.copy()\n",
    "non_ambiguous_alliances.drop('faction', axis = 1, inplace = True)\n",
    "alliances.drop('faction', axis = 1, inplace = True)\n",
    "\n",
    "model = BernoulliNB()\n",
    "model.fit(non_ambiguous_alliances, non_ambiguous_roles)\n",
    "\n",
    "predictions = model.predict(non_ambiguous_alliances)\n",
    "\n",
    "print \"Accuracy: %f\" % model.score(non_ambiguous_alliances, non_ambiguous_roles)\n",
    "print metrics.classification_report(non_ambiguous_roles, predictions, ['1'])\n",
    "print \"1 value represents minority class (heroes)\""
   ]
  },
  {
   "cell_type": "markdown",
   "metadata": {},
   "source": [
    "### Part 1: Feature representation\n",
    "In it's raw format, the data cannot be given to a machine learning algorithm. What we must do is extract features from the data and put them into a structured format. This is the same as what we did when we looked at a dog (the data) and extracted into a matrix whether it was fluffy, sad looking, etc. (the features). The feature we will extract here is **team alliances**.\n",
    "\n",
    "We can represent the team alliances of each character as a row in a matrix where each column corresponds to a particular team. That should look something like this (numbers are made up):\n",
    "\n",
    "<img src=\"http://ulfaslak.com/computational_analysis_of_big_data/exer_figures/example_boa.png\" width=\"400\"/>"
   ]
  },
  {
   "cell_type": "markdown",
   "metadata": {},
   "source": [
    "> **Ex. 4.3.2**: Implement cross validation. The performance of a classifier is strongly dependent on the amount of data it is trained on. In Ex. 4.3.1 you train it on only half of the data and test it on the other half. If you rerun that code multiple times, with random 50/50 partitions, you are gonna see a lot of uncertainty in performance. Cross validation solves this problem by training on a larger subset of the data and testing on a smaller one, and taking the average performance over K-folds of this process.\n",
    "1. Implement cross validation over $K=10$ folds. For each fold you must record the training and test accuracies. In the end, visualize the distributions of test- and training accuracy as histograms in the same plot. It's important that you comment on the result."
   ]
  },
  {
   "cell_type": "code",
   "execution_count": 92,
   "metadata": {},
   "outputs": [
    {
     "name": "stdout",
     "output_type": "stream",
     "text": [
      "Fold Number: 1\n",
      "Training Score: 0.865116\n",
      "Testing Score: 0.826087\n",
      "   \n",
      "Fold Number: 2\n",
      "Training Score: 0.879070\n",
      "Testing Score: 0.782609\n",
      "   \n",
      "Fold Number: 3\n"
     ]
    },
    {
     "name": "stderr",
     "output_type": "stream",
     "text": [
      "/anaconda2/lib/python2.7/site-packages/sklearn/utils/validation.py:578: DataConversionWarning: A column-vector y was passed when a 1d array was expected. Please change the shape of y to (n_samples, ), for example using ravel().\n",
      "  y = column_or_1d(y, warn=True)\n",
      "/anaconda2/lib/python2.7/site-packages/sklearn/utils/validation.py:578: DataConversionWarning: A column-vector y was passed when a 1d array was expected. Please change the shape of y to (n_samples, ), for example using ravel().\n",
      "  y = column_or_1d(y, warn=True)\n",
      "/anaconda2/lib/python2.7/site-packages/sklearn/utils/validation.py:578: DataConversionWarning: A column-vector y was passed when a 1d array was expected. Please change the shape of y to (n_samples, ), for example using ravel().\n",
      "  y = column_or_1d(y, warn=True)\n",
      "/anaconda2/lib/python2.7/site-packages/sklearn/utils/validation.py:578: DataConversionWarning: A column-vector y was passed when a 1d array was expected. Please change the shape of y to (n_samples, ), for example using ravel().\n",
      "  y = column_or_1d(y, warn=True)\n"
     ]
    },
    {
     "name": "stdout",
     "output_type": "stream",
     "text": [
      "Training Score: 0.855814\n",
      "Testing Score: 0.695652\n",
      "   \n",
      "Fold Number: 4\n",
      "Training Score: 0.883721\n",
      "Testing Score: 0.739130\n",
      "   \n",
      "Fold Number: 5\n",
      "Training Score: 0.883721\n",
      "Testing Score: 0.913043\n",
      "   \n",
      "Fold Number: 6\n",
      "Training Score: 0.851163\n",
      "Testing Score: 0.826087\n",
      "   \n",
      "Fold Number: 7\n"
     ]
    },
    {
     "name": "stderr",
     "output_type": "stream",
     "text": [
      "/anaconda2/lib/python2.7/site-packages/sklearn/utils/validation.py:578: DataConversionWarning: A column-vector y was passed when a 1d array was expected. Please change the shape of y to (n_samples, ), for example using ravel().\n",
      "  y = column_or_1d(y, warn=True)\n",
      "/anaconda2/lib/python2.7/site-packages/sklearn/utils/validation.py:578: DataConversionWarning: A column-vector y was passed when a 1d array was expected. Please change the shape of y to (n_samples, ), for example using ravel().\n",
      "  y = column_or_1d(y, warn=True)\n",
      "/anaconda2/lib/python2.7/site-packages/sklearn/utils/validation.py:578: DataConversionWarning: A column-vector y was passed when a 1d array was expected. Please change the shape of y to (n_samples, ), for example using ravel().\n",
      "  y = column_or_1d(y, warn=True)\n",
      "/anaconda2/lib/python2.7/site-packages/sklearn/utils/validation.py:578: DataConversionWarning: A column-vector y was passed when a 1d array was expected. Please change the shape of y to (n_samples, ), for example using ravel().\n",
      "  y = column_or_1d(y, warn=True)\n"
     ]
    },
    {
     "name": "stdout",
     "output_type": "stream",
     "text": [
      "Training Score: 0.851163\n",
      "Testing Score: 0.826087\n",
      "   \n",
      "Fold Number: 8\n",
      "Training Score: 0.851163\n",
      "Testing Score: 0.869565\n",
      "   \n",
      "Fold Number: 9\n",
      "Training Score: 0.860465\n",
      "Testing Score: 0.826087\n",
      "   \n",
      "Fold Number: 10\n"
     ]
    },
    {
     "name": "stderr",
     "output_type": "stream",
     "text": [
      "/anaconda2/lib/python2.7/site-packages/sklearn/utils/validation.py:578: DataConversionWarning: A column-vector y was passed when a 1d array was expected. Please change the shape of y to (n_samples, ), for example using ravel().\n",
      "  y = column_or_1d(y, warn=True)\n",
      "/anaconda2/lib/python2.7/site-packages/sklearn/utils/validation.py:578: DataConversionWarning: A column-vector y was passed when a 1d array was expected. Please change the shape of y to (n_samples, ), for example using ravel().\n",
      "  y = column_or_1d(y, warn=True)\n"
     ]
    },
    {
     "name": "stdout",
     "output_type": "stream",
     "text": [
      "Training Score: 0.851163\n",
      "Testing Score: 0.782609\n",
      "   \n"
     ]
    },
    {
     "data": {
      "image/png": "[encoded data removed]",
      "text/plain": [
       "<Figure size 432x288 with 1 Axes>"
      ]
     },
     "metadata": {},
     "output_type": "display_data"
    },
    {
     "name": "stdout",
     "output_type": "stream",
     "text": [
      "Blue: training\n",
      "Orange: testing\n"
     ]
    }
   ],
   "source": [
    "from matplotlib import pyplot as plt\n",
    "%matplotlib inline\n",
    "\n",
    "alliances_shuffle = alliances_copy.sample(frac=1)\n",
    "\n",
    "i = 0\n",
    "k = 1\n",
    "rows = len(alliances_shuffle.index)\n",
    "training_accuracies = []\n",
    "testing_accuracies = []\n",
    "while(i < rows and k <= 10):\n",
    "    print \"Fold Number: %d\" % k\n",
    "    \n",
    "    testing = alliances_shuffle.iloc[i:i + int(rows/10)]\n",
    "    testing_factions = testing[['faction']]\n",
    "    \n",
    "    if i != 0:\n",
    "        training1 = alliances_shuffle.iloc[0:i]\n",
    "        training2 = alliances_shuffle.iloc[i + int(rows/10) + 1:]\n",
    "        training = pd.concat([training1, training2])\n",
    "    else:\n",
    "        training = alliances_shuffle.iloc[i + int(rows/10) + 1:]\n",
    "    training_factions = training[['faction']]\n",
    "    \n",
    "    training.drop('faction', axis=1, inplace=True)\n",
    "    testing.drop('faction', axis=1, inplace=True)\n",
    "    \n",
    "    model.fit(training, training_factions)\n",
    "    \n",
    "    training_score = model.score(training, training_factions)\n",
    "    print \"Training Score: %f\" % training_score\n",
    "    testing_score = model.score(testing, testing_factions)\n",
    "    print \"Testing Score: %f\" % testing_score\n",
    "    print \"   \"\n",
    "    \n",
    "    training_accuracies.append(training_score)\n",
    "    testing_accuracies.append(testing_score)\n",
    "    \n",
    "    i += int(rows/10)\n",
    "    k += 1\n",
    "    \n",
    "plt.hist([training_accuracies, testing_accuracies])\n",
    "plt.xlabel(\"Accuracy\")\n",
    "plt.ylabel(\"Frequency\")\n",
    "plt.title(\"Heroes/Villains Accuracies\")\n",
    "plt.show()\n",
    "print(\"Blue: training\")\n",
    "print(\"Orange: testing\")"
   ]
  },
  {
   "cell_type": "markdown",
   "metadata": {},
   "source": [
    "The training accuracy is concentrated in a small, relatively high range, as is expected because the model is fit on the same data it is testing. The testing accuracy is more widely distributed because it is tested on different data than it is trained on."
   ]
  },
  {
   "cell_type": "markdown",
   "metadata": {},
   "source": [
    ">**Ex. 4.4.1**: Let's put our classifier to use!\n",
    "* Retrain your model on all of your data.\n",
    "* Create a team alliance representation of the ambiguous characters\n",
    "* Use the model the estimate the probability that each character is a villain (let's call this *villainness*). You can use the `.predict_proba` method on the model to get probability estimates rather than class assignments.\n",
    "* **Visualize the \"heroness\" distribution for all ambiguous characters**. Comment on the result."
   ]
  },
  {
   "cell_type": "code",
   "execution_count": 93,
   "metadata": {},
   "outputs": [
    {
     "data": {
      "image/png": "[encoded data removed]",
      "text/plain": [
       "<Figure size 432x288 with 1 Axes>"
      ]
     },
     "metadata": {},
     "output_type": "display_data"
    }
   ],
   "source": [
    "model.fit(alliances, roles)\n",
    "\n",
    "for index, row in ambiguous_alliances.iterrows():\n",
    "    if(row['faction'] != 2): ambiguous_alliances.drop(index, inplace=True)\n",
    "\n",
    "ambiguous_alliances.drop('faction', axis=1, inplace=True)\n",
    "probs = model.predict_proba(ambiguous_alliances)\n",
    "\n",
    "heroness = [row[0] for row in probs]\n",
    "villainness = [row[1] for row in probs]\n",
    "ambiguity = [row[2] for row in probs]\n",
    "\n",
    "plt.hist(heroness)\n",
    "plt.title(\"Heroness of Ambiguous Characters\")\n",
    "plt.xlabel(\"Heroness\")\n",
    "plt.ylabel(\"Frequency\")\n",
    "plt.show()"
   ]
  },
  {
   "cell_type": "markdown",
   "metadata": {},
   "source": [
    "The model tends to classify ambiguous characters as either almost certainly heroes or almost certainly not heroes. This makes sense because there are way more heroes and villains than ambiguous characters, so it is less likely to correctly classify ambiguous characters."
   ]
  }
 ],
 "metadata": {
  "kernelspec": {
   "display_name": "Python 2",
   "language": "python",
   "name": "python2"
  },
  "language_info": {
   "codemirror_mode": {
    "name": "ipython",
    "version": 2
   },
   "file_extension": ".py",
   "mimetype": "text/x-python",
   "name": "python",
   "nbconvert_exporter": "python",
   "pygments_lexer": "ipython2",
   "version": "2.7.15"
  }
 },
 "nbformat": 4,
 "nbformat_minor": 2
}
